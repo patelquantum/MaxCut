{
 "cells": [
  {
   "cell_type": "markdown",
   "metadata": {},
   "source": [
    "## For Gradient Free Approach (COBYLA)"
   ]
  },
  {
   "cell_type": "code",
   "execution_count": null,
   "metadata": {},
   "outputs": [],
   "source": [
    "#importing the networkx library\n",
    "import networkx as nx\n",
    "import random\n",
    "import numpy as np\n",
    "from qiskit_algorithms import QAOA\n",
    "from qiskit.primitives import Sampler\n",
    "from qiskit_optimization.applications import Maxcut\n",
    "from qiskit_algorithms.optimizers import COBYLA\n",
    "\n",
    "\n",
    "m = 3  # layers\n",
    "A = np.zeros([m+2,100])\n",
    "\n",
    "for ii in range(100):\n",
    "    A[0][ii] = ii+1\n",
    "    n = 10  # nodes\n",
    "    G= nx.erdos_renyi_graph(n,0.5)\n",
    "\n",
    "    for (u, v) in G.edges():\n",
    "        G[u][v]['weight'] = random.uniform(1.0, 1.0)\n",
    "\n",
    "    w = np.zeros([n,n])\n",
    "    for i in range(n):\n",
    "        for j in range(n):\n",
    "            temp = G.get_edge_data(i,j,default=0)\n",
    "            if temp != 0:\n",
    "                w[i][j] = temp[\"weight\"]\n",
    "\n",
    "    quadratic_program = Maxcut(w).to_quadratic_program()\n",
    "\n",
    "    optimizer = COBYLA()  # Gradient free optimizer\n",
    "    sampler = Sampler()\n",
    "\n",
    "    # Use QAOA\n",
    "    for jj in range(m):\n",
    "        qaoa = QAOA(sampler, optimizer, reps=jj+1)  # Using 1,2,...,m layers\n",
    "\n",
    "        # Get the operator and offset\n",
    "        op, offset = quadratic_program.to_ising()\n",
    "\n",
    "        # Run the QAOA algorithm\n",
    "        qaoa_result = qaoa.compute_minimum_eigenvalue(op)\n",
    "        eigenstate = qaoa_result.eigenstate\n",
    "\n",
    "        # Extract the most likely state\n",
    "        sorted_counts = sorted(eigenstate.items(), key=lambda x: x[1], reverse=True)\n",
    "        most_likely_state = sorted_counts[0][0]  # Get the bitstring with the highest probability\n",
    "        #print(\"Most likely state (bitstring):\", most_likely_state)\n",
    "\n",
    "        # Convert the bitstring into a binary array\n",
    "        solution = np.array([int(bit) for bit in reversed(list(bin(most_likely_state)[2:].zfill(n)))])\n",
    "\n",
    "        # Print the solution\n",
    "        cut_edges = [(i, j) for i, j in G.edges if solution[i] != solution[j]]\n",
    "\n",
    "        A[jj+1][ii] = len(cut_edges)\n",
    "\n",
    "    #classical program\n",
    "    sol = 0\n",
    "    for b in range(2**n):\n",
    "        x = [int(t) for t in reversed(list(bin(b)[2:].zfill(n)))]\n",
    "        Cut_value = 0\n",
    "        for i in range(n):\n",
    "            for j in range(n):\n",
    "                Cut_value += w[i][j]*x[i]*(1-x[j])\n",
    "        if sol < Cut_value:\n",
    "            sol = Cut_value\n",
    "            xlist = x\n",
    "    \n",
    "    A[m+1][ii] = int(sol)"
   ]
  },
  {
   "cell_type": "markdown",
   "metadata": {},
   "source": [
    "# plot for Erdős Rényi graphs of 10 nodes using Gradient free optimizer"
   ]
  },
  {
   "cell_type": "code",
   "execution_count": null,
   "metadata": {},
   "outputs": [],
   "source": [
    "import matplotlib.pyplot as plt\n",
    "\n",
    "plt.plot(A[0],A[1],label='p=1')\n",
    "plt.plot(A[0],A[2],label='p=2')\n",
    "plt.plot(A[0],A[3],label='p=3')\n",
    "plt.plot(A[0],A[4],label='classical')\n",
    "plt.grid()\n",
    "plt.xlabel(\"Graph Index ----->\")\n",
    "plt.ylabel(\"Cut Values ----->\")\n",
    "plt.title(\"Solution for Erdős Rényi graphs of 10 nodes using Gradient free optimizer\")\n",
    "plt.legend(loc='best')"
   ]
  },
  {
   "cell_type": "markdown",
   "metadata": {},
   "source": [
    "## Plotting bar plot for average normalized maxcut for different methods"
   ]
  },
  {
   "cell_type": "code",
   "execution_count": null,
   "metadata": {},
   "outputs": [],
   "source": [
    "C = [1.]\n",
    "for j in range(0,3,1):\n",
    "    s = 0\n",
    "    for i in range(0,100,1):\n",
    "        s += A[j+1][i]/A[4][i]\n",
    "    s = s/100\n",
    "    C.append(float(s)) \n",
    "E = ['Classical','p=1','p=1','p=3']\n",
    "plt.bar(E,C)\n",
    "plt.title('Non Gradient based normalized average MaxCut values')\n",
    "plt.xlabel(\"Methods\")\n",
    "plt.ylabel(\"Normalized cut values\")"
   ]
  },
  {
   "cell_type": "markdown",
   "metadata": {},
   "source": [
    "## For Gradient Based Approch (BFGS)"
   ]
  },
  {
   "cell_type": "code",
   "execution_count": null,
   "metadata": {},
   "outputs": [],
   "source": [
    "#importing the networkx library\n",
    "import networkx as nx\n",
    "import random\n",
    "import numpy as np\n",
    "from qiskit_algorithms import QAOA\n",
    "from qiskit.primitives import Sampler\n",
    "from qiskit_optimization.applications import Maxcut\n",
    "from qiskit_algorithms.optimizers import L_BFGS_B\n",
    "\n",
    "\n",
    "m = 3  # layers\n",
    "B = np.zeros([m+2,100])\n",
    "\n",
    "for ii in range(100):\n",
    "    B[0][ii] = ii+1\n",
    "    n = 10  # nodes\n",
    "    G= nx.erdos_renyi_graph(n,0.5)\n",
    "\n",
    "    for (u, v) in G.edges():\n",
    "        G[u][v]['weight'] = random.uniform(1.0, 1.0)\n",
    "\n",
    "    w = np.zeros([n,n])\n",
    "    for i in range(n):\n",
    "        for j in range(n):\n",
    "            temp = G.get_edge_data(i,j,default=0)\n",
    "            if temp != 0:\n",
    "                w[i][j] = temp[\"weight\"]\n",
    "\n",
    "    quadratic_program = Maxcut(w).to_quadratic_program()\n",
    "\n",
    "    optimizer = L_BFGS_B()  # Gradient based optimizer\n",
    "    sampler = Sampler()\n",
    "\n",
    "    # Use QAOA\n",
    "    for jj in range(m):\n",
    "        qaoa = QAOA(sampler, optimizer, reps=jj+1)  # Using 1,2,...,m layers\n",
    "\n",
    "        # Get the operator and offset\n",
    "        op, offset = quadratic_program.to_ising()\n",
    "\n",
    "        # Run the QAOA algorithm\n",
    "        qaoa_result = qaoa.compute_minimum_eigenvalue(op)\n",
    "        eigenstate = qaoa_result.eigenstate\n",
    "\n",
    "        # Extract the most likely state\n",
    "        sorted_counts = sorted(eigenstate.items(), key=lambda x: x[1], reverse=True)\n",
    "        most_likely_state = sorted_counts[0][0]  # Get the bitstring with the highest probability\n",
    "        #print(\"Most likely state (bitstring):\", most_likely_state)\n",
    "\n",
    "        # Convert the bitstring into a binary array\n",
    "        solution = np.array([int(bit) for bit in reversed(list(bin(most_likely_state)[2:].zfill(n)))])\n",
    "\n",
    "        # Print the solution\n",
    "        cut_edges = [(i, j) for i, j in G.edges if solution[i] != solution[j]]\n",
    "\n",
    "        B[jj+1][ii] = len(cut_edges)\n",
    "\n",
    "    #classical program\n",
    "    sol = 0\n",
    "    for b in range(2**n):\n",
    "        x = [int(t) for t in reversed(list(bin(b)[2:].zfill(n)))]\n",
    "        Cut_value = 0\n",
    "        for i in range(n):\n",
    "            for j in range(n):\n",
    "                Cut_value += w[i][j]*x[i]*(1-x[j])\n",
    "        if sol < Cut_value:\n",
    "            sol = Cut_value\n",
    "            xlist = x\n",
    "    \n",
    "    B[m+1][ii] = int(sol)"
   ]
  },
  {
   "cell_type": "markdown",
   "metadata": {},
   "source": [
    "# plot for Erdős Rényi graphs of 10 nodes using Gradient based optimizer"
   ]
  },
  {
   "cell_type": "code",
   "execution_count": null,
   "metadata": {},
   "outputs": [],
   "source": [
    "import matplotlib.pyplot as plt\n",
    "\n",
    "plt.plot(B[0],B[1],label='p=1')\n",
    "plt.plot(B[0],B[2],label='p=2')\n",
    "plt.plot(B[0],B[3],label='p=3')\n",
    "plt.plot(B[0],B[4],label='classical')\n",
    "plt.grid()\n",
    "plt.xlabel(\"Graph Index ----->\")\n",
    "plt.ylabel(\"Cut Values ----->\")\n",
    "plt.title(\"Solution for Erdős Rényi graphs of 10 nodes using Gradient based optimizer\")\n",
    "plt.legend(loc='best')"
   ]
  },
  {
   "cell_type": "markdown",
   "metadata": {},
   "source": [
    "## Plotting bar plot for average normalized maxcut for different methods"
   ]
  },
  {
   "cell_type": "code",
   "execution_count": null,
   "metadata": {},
   "outputs": [],
   "source": [
    "D=[1.]\n",
    "for j in range(0,3,1):\n",
    "    s = 0\n",
    "    for i in range(0,100,1):\n",
    "        s += A[j+1][i]/A[4][i]\n",
    "    s = s/100\n",
    "    C.append(float(s)) \n",
    "E = ['Classical','p=1','p=1','p=3']\n",
    "plt.bar(E,D)\n",
    "plt.title('Gradient based normalized average MaxCut values')\n",
    "plt.xlabel(\"Methods\")\n",
    "plt.ylabel(\"Normalized cut values\")"
   ]
  }
 ],
 "metadata": {
  "kernelspec": {
   "display_name": "cwq",
   "language": "python",
   "name": "python3"
  },
  "language_info": {
   "codemirror_mode": {
    "name": "ipython",
    "version": 3
   },
   "file_extension": ".py",
   "mimetype": "text/x-python",
   "name": "python",
   "nbconvert_exporter": "python",
   "pygments_lexer": "ipython3",
   "version": "3.12.4"
  }
 },
 "nbformat": 4,
 "nbformat_minor": 2
}
