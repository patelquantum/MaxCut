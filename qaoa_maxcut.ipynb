{
 "cells": [
  {
   "cell_type": "code",
   "execution_count": 13,
   "metadata": {},
   "outputs": [
    {
     "name": "stderr",
     "output_type": "stream",
     "text": [
      "C:\\Users\\shubh\\AppData\\Local\\Temp\\ipykernel_18260\\3163981683.py:23: DeprecationWarning: The class ``qiskit.primitives.sampler.Sampler`` is deprecated as of qiskit 1.2. It will be removed no earlier than 3 months after the release date. All implementations of the `BaseSamplerV1` interface have been deprecated in favor of their V2 counterparts. The V2 alternative for the `Sampler` class is `StatevectorSampler`.\n",
      "  sampler = Sampler()\n"
     ]
    },
    {
     "name": "stdout",
     "output_type": "stream",
     "text": [
      "Edges in the cut: [(0, 1), (0, 3), (0, 2), (1, 2), (2, 3)]\n",
      "max_cut =  5\n"
     ]
    }
   ],
   "source": [
    "from qiskit_aer import Aer \n",
    "import numpy as np\n",
    "from qiskit_algorithms.optimizers import COBYLA\n",
    "from qiskit_algorithms import QAOA\n",
    "from qiskit.primitives import Sampler\n",
    "from qiskit_optimization.applications import Maxcut\n",
    "import networkx as nx\n",
    "\n",
    "# Define the graph\n",
    "G = nx.Graph()\n",
    "G.add_edges_from([(0, 1), (1, 2), (2, 3), (3, 0), (0, 2)])  # Adding edges\n",
    "\n",
    "# Convert the graph into a quadratic program using MaxCut\n",
    "w = nx.adjacency_matrix(G).toarray()\n",
    "maxcut = Maxcut(w)\n",
    "quadratic_program = maxcut.to_quadratic_program()\n",
    "\n",
    "# Define the backend and optimizer\n",
    "#simulator = Aer.get_backend('statevector_simulator')  # Using the statevector simulator\n",
    "#optimizer = COBYLA(maxiter=100)\n",
    "optimizer = COBYLA()\n",
    "##estimator=Estimator()\n",
    "sampler = Sampler()\n",
    "\n",
    "# Use QAOA with the Estimator primitive\n",
    "qaoa = QAOA(sampler, optimizer, reps=2)  # Using 2 QAOA layers\n",
    "\n",
    "#print(w)\n",
    "# Get the operator and offset\n",
    "op, offset = quadratic_program.to_ising()\n",
    "#print(op)\n",
    "qaoa_result = qaoa.compute_minimum_eigenvalue(op)\n",
    "\n",
    "# Run the QAOA algorithm\n",
    "qaoa_result = qaoa.compute_minimum_eigenvalue(op)\n",
    "binary_string = qaoa_result.eigenstate\n",
    "solution = np.array([int(bit) for bit in binary_string])\n",
    "\n",
    "# Print the solution\n",
    "print(f\"Edges in the cut: {G.edges}\")\n",
    "print(\"max_cut = \", len(G.edges))\n"
   ]
  },
  {
   "cell_type": "code",
   "execution_count": null,
   "metadata": {},
   "outputs": [
    {
     "name": "stdout",
     "output_type": "stream",
     "text": [
      "[[0. 0. 1. 1. 1.]\n",
      " [0. 0. 1. 0. 0.]\n",
      " [1. 1. 0. 1. 1.]\n",
      " [1. 0. 1. 0. 1.]\n",
      " [1. 0. 1. 1. 0.]]\n",
      "SparsePauliOp(['IIZIZ', 'IZIIZ', 'ZIIIZ', 'IIZZI', 'IZZII', 'ZIZII', 'ZZIII'],\n",
      "              coeffs=[0.5+0.j, 0.5+0.j, 0.5+0.j, 0.5+0.j, 0.5+0.j, 0.5+0.j, 0.5+0.j])\n"
     ]
    },
    {
     "name": "stderr",
     "output_type": "stream",
     "text": [
      "C:\\Users\\shubh\\AppData\\Local\\Temp\\ipykernel_18260\\3901255886.py:47: DeprecationWarning: The class ``qiskit.primitives.sampler.Sampler`` is deprecated as of qiskit 1.2. It will be removed no earlier than 3 months after the release date. All implementations of the `BaseSamplerV1` interface have been deprecated in favor of their V2 counterparts. The V2 alternative for the `Sampler` class is `StatevectorSampler`.\n",
      "  sampler = Sampler()\n"
     ]
    },
    {
     "name": "stdout",
     "output_type": "stream",
     "text": [
      "Edges in the cut: [(0, 2), (0, 3), (0, 4), (1, 2), (2, 3), (2, 4), (3, 4)]\n",
      "max_cut =  7\n",
      "classical solution = [1, 0, 1, 0, 0] cut value = 5.0\n"
     ]
    },
    {
     "data": {
      "image/png": "[encoded data removed]",
      "text/plain": [
       "<Figure size 640x480 with 1 Axes>"
      ]
     },
     "metadata": {},
     "output_type": "display_data"
    }
   ],
   "source": [
    "#importing the networkx library\n",
    "from qiskit_aer import Aer\n",
    "import matplotlib.pyplot as plt\n",
    "import networkx as nx\n",
    "import random\n",
    "import numpy as np\n",
    "#from qiskit_aer import Aer \n",
    "from qiskit_algorithms.optimizers import COBYLA\n",
    "from qiskit_algorithms import QAOA\n",
    "from qiskit.primitives import Sampler\n",
    "from qiskit_optimization.applications import Maxcut\n",
    "\n",
    "n = 5\n",
    "G= nx.erdos_renyi_graph(n,0.5)\n",
    "#nx.draw(G, with_labels=True)\n",
    "\n",
    "\n",
    "pos = nx.spring_layout(G)\n",
    "for (u, v) in G.edges():\n",
    "    G[u][v]['weight'] = random.uniform(1.0, 1.0)\n",
    "colors = [\"slateblue\" for node in G.nodes()]\n",
    "\n",
    "def f(G,colors,pos):\n",
    "    nx.draw_networkx(G,node_color=colors,pos=pos)\n",
    "\n",
    "\n",
    "w = np.zeros([n,n])\n",
    "for i in range(n):\n",
    "    for j in range(n):\n",
    "        temp = G.get_edge_data(i,j,default=0)\n",
    "        if temp != 0:\n",
    "            w[i][j] = temp[\"weight\"]\n",
    "print(w)\n",
    "\n",
    "\n",
    "quadratic_program = Maxcut(w).to_quadratic_program()\n",
    "#print(maxcut)\n",
    "#print(quadratic_program)\n",
    "\n",
    "# Define the backend and optimizer\n",
    "#simulator = Aer.get_backend('statevector_simulator')  # Using the statevector simulator\n",
    "#optimizer = COBYLA(maxiter=100)\n",
    "optimizer = COBYLA()\n",
    "##estimator=Estimator()\n",
    "sampler = Sampler()\n",
    "\n",
    "# Use QAOA with the Estimator primitive\n",
    "qaoa = QAOA(sampler, optimizer, reps=2)  # Using 2 QAOA layers\n",
    "#print(w)\n",
    "# Get the operator and offset\n",
    "op, offset = quadratic_program.to_ising()\n",
    "#print(op)\n",
    "print(op)\n",
    "qaoa_result = qaoa.compute_minimum_eigenvalue(op)\n",
    "# Run the QAOA algorithm\n",
    "qaoa_result = qaoa.compute_minimum_eigenvalue(op)\n",
    "binary_string = qaoa_result.eigenstate\n",
    "solution = np.array([int(bit) for bit in binary_string])\n",
    "\n",
    "# Print the solution\n",
    "cut_edges = [(i, j) for i, j in G.edges if solution[i] != solution[j]]\n",
    "print(f\"Edges in the cut: {cut_edges}\")\n",
    "print(\"max_cut = \", len(cut_edges))\n",
    "\n",
    "sol = 0\n",
    "for b in range(2**n):\n",
    "    x = [int(t) for t in reversed(list(bin(b)[2:].zfill(n)))]\n",
    "    Cut_value = 0\n",
    "    for i in range(n):\n",
    "        for j in range(n):\n",
    "            Cut_value += w[i][j]*x[i]*(1-x[j])\n",
    "    if sol < Cut_value:\n",
    "        sol = Cut_value\n",
    "        xlist = x\n",
    "    #print(\"case = \" +str(x)+ \" cut value = \" +str(Cut_value))\n",
    "colors = [\"b\" if xlist[i] == 0 else \"r\" for i in range(n)]\n",
    "f(G,colors,pos)\n",
    "print(\"classical solution = \" +str(xlist)+ \" cut value = \" +str(sol))"
   ]
  }
 ],
 "metadata": {
  "kernelspec": {
   "display_name": "cwq",
   "language": "python",
   "name": "python3"
  },
  "language_info": {
   "codemirror_mode": {
    "name": "ipython",
    "version": 3
   },
   "file_extension": ".py",
   "mimetype": "text/x-python",
   "name": "python",
   "nbconvert_exporter": "python",
   "pygments_lexer": "ipython3",
   "version": "3.12.4"
  }
 },
 "nbformat": 4,
 "nbformat_minor": 2
}
